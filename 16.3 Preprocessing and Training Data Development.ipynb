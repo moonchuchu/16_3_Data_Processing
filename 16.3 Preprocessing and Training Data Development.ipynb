{
 "cells": [
  {
   "cell_type": "code",
   "execution_count": null,
   "metadata": {},
   "outputs": [],
   "source": [
    "ac_only.to_csv(\"C:/Users/moon.chu/Documents/Dell_Loaner_12_03_2020/Data Request/Moon/User Segmentation/ac_only.csv\",index=False)  "
   ]
  },
  {
   "cell_type": "code",
   "execution_count": null,
   "metadata": {},
   "outputs": [],
   "source": [
    "#Create dummy or indicator features for categorical variables\n",
    "#create dummy for email column\n",
    "\n",
    "one_hot_encoded = pd.get_dummies(ac_only, columns=['email_category'], prefix='email')"
   ]
  },
  {
   "cell_type": "code",
   "execution_count": null,
   "metadata": {},
   "outputs": [],
   "source": [
    "#inviter yes or no coding\n",
    "one_hot_encoded.loc[one_hot_encoded['inviter_id'] > 0, 'inviter_yes_no'] = 'yes_inviter'\n",
    "one_hot_encoded.loc[one_hot_encoded['inviter_id'] == 0, 'inviter_yes_no'] = 'no_inviter'"
   ]
  },
  {
   "cell_type": "code",
   "execution_count": null,
   "metadata": {},
   "outputs": [],
   "source": [
    "test = one_hot_encoded"
   ]
  },
  {
   "cell_type": "code",
   "execution_count": null,
   "metadata": {},
   "outputs": [],
   "source": [
    "#Standardize the magnitude of numeric features using a scaler\n",
    "\n",
    "# Import StandardScaler\n",
    "from sklearn.preprocessing import StandardScaler\n",
    "\n",
    "# Instantiate StandardScaler\n",
    "SS_scaler = StandardScaler()\n",
    "\n",
    "# Fit SS_scaler to the data\n",
    "SS_scaler.fit(one_hot_encoded[['properties.directorySize']])\n",
    "\n",
    "# Transform the data using the fitted scaler\n",
    "one_hot_encoded['properties.directorySize_SS'] = SS_scaler.transform(one_hot_encoded[['properties.directorySize']])\n",
    "\n",
    "# Compare the origional and transformed column\n",
    "print(one_hot_encoded[['properties.directorySize_SS']].head())"
   ]
  },
  {
   "cell_type": "code",
   "execution_count": null,
   "metadata": {},
   "outputs": [],
   "source": [
    "#Let's do this for the rest of others\n",
    "\n",
    "####\n",
    "SS_scaler = StandardScaler()\n",
    "SS_scaler.fit(one_hot_encoded[['properties.directorySize']])\n",
    "one_hot_encoded['properties.directorySize_SS'] = SS_scaler.transform(one_hot_encoded[['properties.directorySize']])\n",
    "####\n",
    "SS_scaler = StandardScaler()\n",
    "SS_scaler.fit(one_hot_encoded[['properties.personalContactSize']])\n",
    "one_hot_encoded['properties.personalContactSize_SS'] = SS_scaler.transform(one_hot_encoded[['properties.personalContactSize']])\n",
    "####\n",
    "SS_scaler = StandardScaler()\n",
    "SS_scaler.fit(one_hot_encoded[['active_days_all']])\n",
    "one_hot_encoded['active_days_all_SS'] = SS_scaler.transform(one_hot_encoded[['active_days_all']])\n",
    "####\n",
    "SS_scaler = StandardScaler()\n",
    "SS_scaler.fit(one_hot_encoded[['may_post_count']])\n",
    "one_hot_encoded['may_post_count_SS'] = SS_scaler.transform(one_hot_encoded[['may_post_count']])\n",
    "####\n",
    "SS_scaler = StandardScaler()\n",
    "SS_scaler.fit(one_hot_encoded[['may_meeting_hosted']])\n",
    "one_hot_encoded['may_meeting_hosted_SS'] = SS_scaler.transform(one_hot_encoded[['may_meeting_hosted']])\n",
    "####\n",
    "SS_scaler = StandardScaler()\n",
    "SS_scaler.fit(one_hot_encoded[['may_meeting_participated']])\n",
    "one_hot_encoded['may_meeting_participated_SS'] = SS_scaler.transform(one_hot_encoded[['may_meeting_participated']])"
   ]
  },
  {
   "cell_type": "code",
   "execution_count": null,
   "metadata": {},
   "outputs": [],
   "source": [
    "#Split your data into testing and training datasets\n",
    "\n",
    "\n",
    "import numpy as np\n",
    "from sklearn.model_selection import train_test_split\n",
    "\n",
    "\n",
    "x=one_hot_encoded[['properties.company','properties.directorySize','properties.personalContactSize','email_common','email_company']]\n",
    "y=one_hot_encoded[['active_days_all']]\n",
    "\n",
    "x_train, x_test, y_train, y_test = train_test_split(x, y, test_size=0.33, random_state=4)"
   ]
  }
 ],
 "metadata": {
  "kernelspec": {
   "display_name": "Python 3",
   "language": "python",
   "name": "python3"
  },
  "language_info": {
   "codemirror_mode": {
    "name": "ipython",
    "version": 3
   },
   "file_extension": ".py",
   "mimetype": "text/x-python",
   "name": "python",
   "nbconvert_exporter": "python",
   "pygments_lexer": "ipython3",
   "version": "3.8.5"
  }
 },
 "nbformat": 4,
 "nbformat_minor": 4
}
