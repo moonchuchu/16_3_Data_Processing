{
 "cells": [
  {
   "cell_type": "code",
   "execution_count": null,
   "metadata": {},
   "outputs": [],
   "source": [
    "1) Create dummy or indicator features for categorical variables\n",
    "Hint: you’ll need to think about your old favorite pandas functions here like\n",
    "get_dummies()\n",
    "\n",
    "2) Standardize the magnitude of numeric features using a scaler "
   ]
  },
  {
   "cell_type": "code",
   "execution_count": null,
   "metadata": {},
   "outputs": [],
   "source": [
    "Hint: you might need to employ Python code like this:\n",
    "# Making a Scaler object\n",
    "scaler = preprocessing.StandardScaler()\n",
    "# Fitting data to the scaler object\n",
    "scaled_df = scaler.fit_transform(df)\n",
    "scaled_df = pd.DataFrame(scaled_df, columns=names)\n",
    " Split into testing and training datasets\n",
    "Hint: don’t forget your sklearn functions here, like train_test_split().\n",
    "Review the following questions and apply them to your dataset:\n",
    "# Does my data set have any categorical data, such as Gender or day of the week?\n",
    "# Do my features have data values that range from 0 - 100 or 0-1 or both and more? "
   ]
  }
 ],
 "metadata": {
  "kernelspec": {
   "display_name": "Python 3",
   "language": "python",
   "name": "python3"
  },
  "language_info": {
   "codemirror_mode": {
    "name": "ipython",
    "version": 3
   },
   "file_extension": ".py",
   "mimetype": "text/x-python",
   "name": "python",
   "nbconvert_exporter": "python",
   "pygments_lexer": "ipython3",
   "version": "3.8.5"
  }
 },
 "nbformat": 4,
 "nbformat_minor": 4
}
